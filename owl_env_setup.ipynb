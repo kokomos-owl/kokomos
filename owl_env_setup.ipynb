{
  "nbformat": 4,
  "nbformat_minor": 0,
  "metadata": {
    "colab": {
      "provenance": [],
      "mount_file_id": "1oe2DR4VZ8zU2_HoCAzVhF3gfAxSiyTTz",
      "authorship_tag": "ABX9TyNxNQ0NaL6YvjJNb+xqlJdk",
      "include_colab_link": true
    },
    "kernelspec": {
      "name": "python3",
      "display_name": "Python 3"
    },
    "language_info": {
      "name": "python"
    }
  },
  "cells": [
    {
      "cell_type": "markdown",
      "metadata": {
        "id": "view-in-github",
        "colab_type": "text"
      },
      "source": [
        "<a href=\"https://colab.research.google.com/github/thecommonsai/kokomos/blob/main/owl_env_setup.ipynb\" target=\"_parent\"><img src=\"https://colab.research.google.com/assets/colab-badge.svg\" alt=\"Open In Colab\"/></a>"
      ]
    },
    {
      "cell_type": "code",
      "execution_count": null,
      "metadata": {
        "id": "qsftO63zkhn2"
      },
      "outputs": [],
      "source": []
    }
  ]
}