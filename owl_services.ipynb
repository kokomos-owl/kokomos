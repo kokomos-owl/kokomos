{
  "nbformat": 4,
  "nbformat_minor": 0,
  "metadata": {
    "colab": {
      "provenance": [],
      "mount_file_id": "178SaDwA8vc5wSBjgMZ8x2d9LID6fa5pM",
      "authorship_tag": "ABX9TyNplGe/hvc9B9pypsEuBlE0",
      "include_colab_link": true
    },
    "kernelspec": {
      "name": "python3",
      "display_name": "Python 3"
    },
    "language_info": {
      "name": "python"
    }
  },
  "cells": [
    {
      "cell_type": "markdown",
      "metadata": {
        "id": "view-in-github",
        "colab_type": "text"
      },
      "source": [
        "<a href=\"https://colab.research.google.com/github/kokomos-owl/kokomos/blob/main/owl_services.ipynb\" target=\"_parent\"><img src=\"https://colab.research.google.com/assets/colab-badge.svg\" alt=\"Open In Colab\"/></a>"
      ]
    },
    {
      "cell_type": "code",
      "execution_count": 1,
      "metadata": {
        "colab": {
          "base_uri": "https://localhost:8080/"
        },
        "id": "w3e2ui4yiIFc",
        "outputId": "8c748ae5-a32b-45b8-b0ca-41f89dfc53de"
      },
      "outputs": [
        {
          "output_type": "stream",
          "name": "stdout",
          "text": [
            "/content/drive/MyDrive/owl_env/github\n"
          ]
        }
      ],
      "source": [
        "%cd drive/MyDrive/owl_env/github/"
      ]
    }
  ]
}